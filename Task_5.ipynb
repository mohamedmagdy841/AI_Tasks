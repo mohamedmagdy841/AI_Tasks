{
 "cells": [
  {
   "cell_type": "code",
   "execution_count": 1,
   "id": "13f1cf4f",
   "metadata": {
    "ExecuteTime": {
     "end_time": "2022-08-17T15:00:34.250832Z",
     "start_time": "2022-08-17T15:00:34.240971Z"
    }
   },
   "outputs": [],
   "source": [
    "# How to create a destructor in python\n",
    "class Human:\n",
    "    def __init__(self,name):\n",
    "        self.name = name\n",
    "        print(\"Welcome\")\n",
    "    \n",
    "    def Name(self):\n",
    "        print(\"Your name is\", self.name)\n",
    "        \n",
    "    \n",
    "    def __del__(self):\n",
    "        print(\"Bye\")\n",
    "    "
   ]
  },
  {
   "cell_type": "code",
   "execution_count": 2,
   "id": "484f9181",
   "metadata": {
    "ExecuteTime": {
     "end_time": "2022-08-17T15:00:35.025441Z",
     "start_time": "2022-08-17T15:00:35.012433Z"
    }
   },
   "outputs": [
    {
     "name": "stdout",
     "output_type": "stream",
     "text": [
      "Welcome\n"
     ]
    }
   ],
   "source": [
    "b = Human(\"Mohamed\")"
   ]
  },
  {
   "cell_type": "code",
   "execution_count": 3,
   "id": "29102ab8",
   "metadata": {
    "ExecuteTime": {
     "end_time": "2022-08-17T15:00:36.020497Z",
     "start_time": "2022-08-17T15:00:36.013497Z"
    }
   },
   "outputs": [
    {
     "name": "stdout",
     "output_type": "stream",
     "text": [
      "Your name is Mohamed\n"
     ]
    }
   ],
   "source": [
    "b.Name()"
   ]
  },
  {
   "cell_type": "code",
   "execution_count": 4,
   "id": "d1ce49fc",
   "metadata": {
    "ExecuteTime": {
     "end_time": "2022-08-17T15:00:37.710246Z",
     "start_time": "2022-08-17T15:00:37.697726Z"
    }
   },
   "outputs": [
    {
     "name": "stdout",
     "output_type": "stream",
     "text": [
      "Bye\n"
     ]
    }
   ],
   "source": [
    "del b"
   ]
  }
 ],
 "metadata": {
  "kernelspec": {
   "display_name": "Python 3 (ipykernel)",
   "language": "python",
   "name": "python3"
  },
  "language_info": {
   "codemirror_mode": {
    "name": "ipython",
    "version": 3
   },
   "file_extension": ".py",
   "mimetype": "text/x-python",
   "name": "python",
   "nbconvert_exporter": "python",
   "pygments_lexer": "ipython3",
   "version": "3.9.12"
  }
 },
 "nbformat": 4,
 "nbformat_minor": 5
}
