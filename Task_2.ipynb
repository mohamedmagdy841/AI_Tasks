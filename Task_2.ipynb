{
 "cells": [
  {
   "cell_type": "code",
   "execution_count": 11,
   "id": "54b16d2d",
   "metadata": {
    "ExecuteTime": {
     "end_time": "2022-08-06T18:18:17.579529Z",
     "start_time": "2022-08-06T18:18:17.569533Z"
    }
   },
   "outputs": [
    {
     "name": "stdout",
     "output_type": "stream",
     "text": [
      "1505\n",
      "1540\n",
      "1575\n",
      "1610\n",
      "1645\n",
      "1680\n",
      "1715\n",
      "1750\n",
      "1785\n",
      "1820\n",
      "1855\n",
      "1890\n",
      "1925\n",
      "1960\n",
      "1995\n",
      "2030\n",
      "2065\n",
      "2100\n",
      "2135\n",
      "2170\n",
      "2205\n",
      "2240\n",
      "2275\n",
      "2310\n",
      "2345\n",
      "2380\n",
      "2415\n",
      "2450\n",
      "2485\n",
      "2520\n",
      "2555\n",
      "2590\n",
      "2625\n",
      "2660\n",
      "2695\n"
     ]
    }
   ],
   "source": [
    "#Q1\n",
    "for i in range(1500,2701):\n",
    "    if(i%7==0 and i%5==0):\n",
    "        Num=i\n",
    "        print(Num) "
   ]
  },
  {
   "cell_type": "code",
   "execution_count": 26,
   "id": "3cf76f1b",
   "metadata": {
    "ExecuteTime": {
     "end_time": "2022-08-06T18:39:46.478964Z",
     "start_time": "2022-08-06T18:39:40.818808Z"
    }
   },
   "outputs": [
    {
     "name": "stdout",
     "output_type": "stream",
     "text": [
      "Please enter temperature in fahrenheit : 68\n",
      "Temperature in celsius is : 20.0\n",
      "Please enter temperature in celsius : 20\n",
      "Temperature in fahrenheit is : 68.0\n"
     ]
    }
   ],
   "source": [
    "#Q2\n",
    "f=float(input(\"Please enter temperature in fahrenheit : \"))\n",
    "c =( f-32 )*5/9\n",
    "print(\"Temperature in celsius is :\" , c)\n",
    "\n",
    "c=float(input(\"Please enter temperature in celsius : \"))\n",
    "f = c*9/5 + 32\n",
    "print(\"Temperature in fahrenheit is :\" , f)"
   ]
  },
  {
   "cell_type": "code",
   "execution_count": 75,
   "id": "9cc35411",
   "metadata": {
    "ExecuteTime": {
     "end_time": "2022-08-07T13:31:56.715714Z",
     "start_time": "2022-08-07T13:31:56.700719Z"
    }
   },
   "outputs": [
    {
     "name": "stdout",
     "output_type": "stream",
     "text": [
      "* \n",
      "* * \n",
      "* * * \n",
      "* * * * \n",
      "* * * * * \n",
      "* * * * \n",
      "* * * \n",
      "* * \n",
      "* \n"
     ]
    }
   ],
   "source": [
    "#Q3\n",
    "counter = 0\n",
    "for i in range(1,10):\n",
    "    if(i<=5):\n",
    "        for j in range(0,i):\n",
    "            print(\"* \", end=\"\")\n",
    "    else:\n",
    "        for k in range(i,10):\n",
    "            print(\"* \", end=\"\")\n",
    "    print(\"\")"
   ]
  },
  {
   "cell_type": "code",
   "execution_count": 88,
   "id": "2ed45470",
   "metadata": {
    "ExecuteTime": {
     "end_time": "2022-08-07T14:20:23.194141Z",
     "start_time": "2022-08-07T14:20:20.640614Z"
    }
   },
   "outputs": [
    {
     "name": "stdout",
     "output_type": "stream",
     "text": [
      "Word : mohamed\n",
      "Reversed Word : demahom\n"
     ]
    }
   ],
   "source": [
    "#Q4\n",
    "word = input(\"Word : \")\n",
    "reversed_word =''.join(reversed(word))\n",
    "print(\"Reversed Word :\",reversed_word)"
   ]
  },
  {
   "cell_type": "code",
   "execution_count": 95,
   "id": "33882cd1",
   "metadata": {
    "ExecuteTime": {
     "end_time": "2022-08-07T19:18:29.777094Z",
     "start_time": "2022-08-07T19:18:25.442878Z"
    }
   },
   "outputs": [
    {
     "name": "stdout",
     "output_type": "stream",
     "text": [
      "Enter first number : 1\n",
      "Enter second number : 2\n",
      "Enter third number : 3\n",
      "Max number = 3\n"
     ]
    }
   ],
   "source": [
    "#Q5\n",
    "N1=int(input(\"Enter first number : \"))\n",
    "N2=int(input(\"Enter second number : \"))\n",
    "N3=int(input(\"Enter third number : \"))\n",
    "def max_number(n1,n2,n3):\n",
    "    if(n1>n2 and n1>n3):\n",
    "        return n1\n",
    "    elif(n2>n1 and n2>n3):\n",
    "        return n2\n",
    "    else:\n",
    "        return n3\n",
    "        \n",
    "print(\"Max number =\",max_number(N1,N2,N3))"
   ]
  },
  {
   "cell_type": "code",
   "execution_count": 5,
   "id": "8885feab",
   "metadata": {
    "ExecuteTime": {
     "end_time": "2022-08-07T20:01:36.812396Z",
     "start_time": "2022-08-07T20:01:21.582750Z"
    }
   },
   "outputs": [
    {
     "name": "stdout",
     "output_type": "stream",
     "text": [
      "Enter a number :100\n",
      "Enter a number :200\n",
      "Enter a number :700\n",
      "The summation of numbers = 1000\n"
     ]
    }
   ],
   "source": [
    "#Q6\n",
    "numbers=[]\n",
    "def summation():\n",
    "    sum=0\n",
    "    for i in range(3):\n",
    "        numbers.append( int(input(\"Enter a number :\")) )\n",
    "        sum = sum + numbers.pop(0)\n",
    "    return sum  \n",
    "\n",
    "print(\"The summation of numbers =\",summation())"
   ]
  },
  {
   "cell_type": "code",
   "execution_count": 10,
   "id": "38da7875",
   "metadata": {
    "ExecuteTime": {
     "end_time": "2022-08-07T20:21:15.394469Z",
     "start_time": "2022-08-07T20:21:15.378336Z"
    }
   },
   "outputs": [
    {
     "name": "stdout",
     "output_type": "stream",
     "text": [
      "0\n",
      "1\n",
      "2\n",
      "4\n",
      "5\n"
     ]
    }
   ],
   "source": [
    "#Q7\n",
    "for i in range(0,7):\n",
    "    if(i==3 or i==6):\n",
    "        continue\n",
    "    print(i)"
   ]
  },
  {
   "cell_type": "code",
   "execution_count": 15,
   "id": "0fa3860f",
   "metadata": {
    "ExecuteTime": {
     "end_time": "2022-08-07T20:42:02.761883Z",
     "start_time": "2022-08-07T20:42:02.747888Z"
    }
   },
   "outputs": [
    {
     "data": {
      "text/plain": [
       "120"
      ]
     },
     "execution_count": 15,
     "metadata": {},
     "output_type": "execute_result"
    }
   ],
   "source": [
    "#Q8\n",
    "def factorial(n):\n",
    "    if(n>=1):\n",
    "        return n*factorial(n-1)\n",
    "    else:\n",
    "        return 1\n",
    "\n",
    "factorial(5)        "
   ]
  },
  {
   "cell_type": "code",
   "execution_count": 22,
   "id": "55f2c08b",
   "metadata": {
    "ExecuteTime": {
     "end_time": "2022-08-07T20:57:10.130795Z",
     "start_time": "2022-08-07T20:57:10.125794Z"
    }
   },
   "outputs": [
    {
     "name": "stdout",
     "output_type": "stream",
     "text": [
      "[1, 2, 3, 4, 5]\n"
     ]
    }
   ],
   "source": [
    "#Q9\n",
    "def unique(l):\n",
    "    n = []\n",
    "    for i in l:\n",
    "        if i not in n:\n",
    "            n.append(i)\n",
    "    return n\n",
    "\n",
    "print(unique([1,2,2,2,3,3,4,5,4]))"
   ]
  },
  {
   "cell_type": "code",
   "execution_count": 19,
   "id": "fcdf1c51",
   "metadata": {
    "ExecuteTime": {
     "end_time": "2022-08-07T20:51:16.121818Z",
     "start_time": "2022-08-07T20:51:16.112817Z"
    }
   },
   "outputs": [
    {
     "name": "stdout",
     "output_type": "stream",
     "text": [
      "25\n",
      "12\n"
     ]
    }
   ],
   "source": [
    "#Q10\n",
    "add_15 = lambda x: x+15\n",
    "print(add_15(10))\n",
    "\n",
    "multiply = lambda x,y: x*y\n",
    "print(multiply(3,4))"
   ]
  },
  {
   "cell_type": "code",
   "execution_count": null,
   "id": "64cafe58",
   "metadata": {},
   "outputs": [],
   "source": []
  }
 ],
 "metadata": {
  "kernelspec": {
   "display_name": "Python 3 (ipykernel)",
   "language": "python",
   "name": "python3"
  },
  "language_info": {
   "codemirror_mode": {
    "name": "ipython",
    "version": 3
   },
   "file_extension": ".py",
   "mimetype": "text/x-python",
   "name": "python",
   "nbconvert_exporter": "python",
   "pygments_lexer": "ipython3",
   "version": "3.9.12"
  }
 },
 "nbformat": 4,
 "nbformat_minor": 5
}
