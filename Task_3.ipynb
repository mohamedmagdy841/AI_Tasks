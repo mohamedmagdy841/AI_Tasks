{
 "cells": [
  {
   "cell_type": "code",
   "execution_count": 1,
   "id": "e9b5598b",
   "metadata": {
    "ExecuteTime": {
     "end_time": "2022-08-10T14:31:27.929939Z",
     "start_time": "2022-08-10T14:31:27.908039Z"
    }
   },
   "outputs": [
    {
     "data": {
      "text/plain": [
       "120"
      ]
     },
     "execution_count": 1,
     "metadata": {},
     "output_type": "execute_result"
    }
   ],
   "source": [
    "#Task 1 in recursion way\n",
    "def factorial(n):\n",
    "    if(n>=1):\n",
    "        return n*factorial(n-1)\n",
    "    else:\n",
    "        return 1\n",
    "\n",
    "factorial(5) "
   ]
  },
  {
   "cell_type": "code",
   "execution_count": 5,
   "id": "1d146892",
   "metadata": {
    "ExecuteTime": {
     "end_time": "2022-08-10T14:39:03.832683Z",
     "start_time": "2022-08-10T14:39:03.816651Z"
    }
   },
   "outputs": [
    {
     "data": {
      "text/plain": [
       "120"
      ]
     },
     "execution_count": 5,
     "metadata": {},
     "output_type": "execute_result"
    }
   ],
   "source": [
    "#Task 1 in iterative way\n",
    "def factorial(n):\n",
    "    fact=1\n",
    "    i=1\n",
    "    while(i <= n):\n",
    "        fact = fact * i\n",
    "        i+=1\n",
    "    return fact\n",
    "        \n",
    "factorial(5) "
   ]
  },
  {
   "cell_type": "code",
   "execution_count": 13,
   "id": "35fd9bb4",
   "metadata": {
    "ExecuteTime": {
     "end_time": "2022-08-10T15:02:59.181438Z",
     "start_time": "2022-08-10T15:02:56.035865Z"
    }
   },
   "outputs": [
    {
     "name": "stdout",
     "output_type": "stream",
     "text": [
      "Search for a number between 10 and 100 : 50\n",
      "Element is present at index 4\n"
     ]
    }
   ],
   "source": [
    "#Task 2 binary search\n",
    "\n",
    "arr=[10,20,30,40,50,60,70,80,90,100]\n",
    "x=int(input(\"Search for a number between 10 and 100 : \"))\n",
    "low = 0\n",
    "high = 10\n",
    "\n",
    "def binary_search(arr, low, high, x):\n",
    " \n",
    "    if high >= low:\n",
    " \n",
    "        mid = (high + low) // 2\n",
    " \n",
    "        if arr[mid] == x:\n",
    "            return mid\n",
    " \n",
    "        elif arr[mid] > x:\n",
    "            return binary_search(arr, low, mid - 1, x)\n",
    " \n",
    "        else:\n",
    "            return binary_search(arr, mid + 1, high, x)\n",
    " \n",
    "    else:\n",
    "        return -1\n",
    "result = binary_search(arr, low, high, x)\n",
    "print(\"Element is present at index\", result)"
   ]
  },
  {
   "cell_type": "code",
   "execution_count": null,
   "id": "c0ee0b4a",
   "metadata": {},
   "outputs": [],
   "source": []
  }
 ],
 "metadata": {
  "kernelspec": {
   "display_name": "Python 3 (ipykernel)",
   "language": "python",
   "name": "python3"
  },
  "language_info": {
   "codemirror_mode": {
    "name": "ipython",
    "version": 3
   },
   "file_extension": ".py",
   "mimetype": "text/x-python",
   "name": "python",
   "nbconvert_exporter": "python",
   "pygments_lexer": "ipython3",
   "version": "3.9.12"
  }
 },
 "nbformat": 4,
 "nbformat_minor": 5
}
